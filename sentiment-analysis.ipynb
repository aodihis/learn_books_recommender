{
 "cells": [
  {
   "cell_type": "code",
   "id": "initial_id",
   "metadata": {
    "collapsed": true,
    "ExecuteTime": {
     "end_time": "2025-02-04T02:20:50.368331Z",
     "start_time": "2025-02-04T02:20:47.779627Z"
    }
   },
   "source": [
    "import numpy as np\n",
    "import pandas as pd\n",
    "books = pd.read_csv('books_with_categories.csv')"
   ],
   "outputs": [],
   "execution_count": 1
  },
  {
   "metadata": {
    "ExecuteTime": {
     "end_time": "2025-02-04T03:24:53.963187Z",
     "start_time": "2025-02-04T03:24:52.996977Z"
    }
   },
   "cell_type": "code",
   "source": [
    "from transformers import pipeline\n",
    "pipe = pipeline(\"text-classification\", model=\"j-hartmann/emotion-english-distilroberta-base\", top_k=None)\n"
   ],
   "id": "abe18b7dd111b275",
   "outputs": [
    {
     "name": "stderr",
     "output_type": "stream",
     "text": [
      "Device set to use cpu\n"
     ]
    }
   ],
   "execution_count": 9
  },
  {
   "metadata": {
    "ExecuteTime": {
     "end_time": "2025-02-04T03:24:59.350443Z",
     "start_time": "2025-02-04T03:24:59.204925Z"
    }
   },
   "cell_type": "code",
   "source": "pipe(books['description'][0])",
   "id": "5b6a6ce00acedb5",
   "outputs": [
    {
     "data": {
      "text/plain": [
       "[[{'label': 'fear', 'score': 0.6548405885696411},\n",
       "  {'label': 'neutral', 'score': 0.16985228657722473},\n",
       "  {'label': 'sadness', 'score': 0.11640921980142593},\n",
       "  {'label': 'surprise', 'score': 0.02070065587759018},\n",
       "  {'label': 'disgust', 'score': 0.019100677222013474},\n",
       "  {'label': 'joy', 'score': 0.01516144908964634},\n",
       "  {'label': 'anger', 'score': 0.003935146611183882}]]"
      ]
     },
     "execution_count": 10,
     "metadata": {},
     "output_type": "execute_result"
    }
   ],
   "execution_count": 10
  },
  {
   "metadata": {
    "ExecuteTime": {
     "end_time": "2025-02-04T02:33:53.794445Z",
     "start_time": "2025-02-04T02:33:53.513Z"
    }
   },
   "cell_type": "code",
   "source": "pipe(books['description'][0].split('.'))",
   "id": "959b9f34f7885e35",
   "outputs": [
    {
     "data": {
      "text/plain": [
       "[{'label': 'surprise', 'score': 0.7296020984649658},\n",
       " {'label': 'neutral', 'score': 0.44937002658843994},\n",
       " {'label': 'neutral', 'score': 0.6462159752845764},\n",
       " {'label': 'fear', 'score': 0.9281681180000305},\n",
       " {'label': 'sadness', 'score': 0.9671575427055359},\n",
       " {'label': 'joy', 'score': 0.932798445224762},\n",
       " {'label': 'joy', 'score': 0.6528708338737488},\n",
       " {'label': 'neutral', 'score': 0.5494767427444458}]"
      ]
     },
     "execution_count": 4,
     "metadata": {},
     "output_type": "execute_result"
    }
   ],
   "execution_count": 4
  },
  {
   "metadata": {
    "ExecuteTime": {
     "end_time": "2025-02-04T03:31:25.950291Z",
     "start_time": "2025-02-04T03:31:25.943500Z"
    }
   },
   "cell_type": "code",
   "source": [
    "import numpy as np\n",
    "emotion_labels = ['anger', 'disgust', 'fear', 'joy', 'sadness', 'surprise', 'neutral']\n",
    "isbn = []\n",
    "emotion_scores = {label: [] for label in emotion_labels}\n",
    "\n",
    "def calculate_emotion_scores(predictions):\n",
    "    per_emotion_scores = {label: [] for label in emotion_labels}\n",
    "    for prediction in predictions:\n",
    "        sorted_predictions = sorted(prediction, key=lambda x: x['label'])\n",
    "        for index, label in enumerate(emotion_labels):\n",
    "            per_emotion_scores[label].append(sorted_predictions[index]['score'])\n",
    "    return {label: float(np.max(scores)) for label, scores in per_emotion_scores.items()}\n"
   ],
   "id": "83a96d6b5da1cc81",
   "outputs": [],
   "execution_count": 19
  },
  {
   "metadata": {
    "ExecuteTime": {
     "end_time": "2025-02-04T03:31:28.300841Z",
     "start_time": "2025-02-04T03:31:26.960545Z"
    }
   },
   "cell_type": "code",
   "source": [
    "for i in range(10):\n",
    "    isbn.append(books['isbn13'][i])\n",
    "    sentences = books['description'][i].split('.')\n",
    "    predictions = pipe(sentences)\n",
    "    max_scores = calculate_emotion_scores(predictions)\n",
    "    for label in emotion_labels:\n",
    "        emotion_scores[label].append(max_scores[label])"
   ],
   "id": "b2676a75475a8037",
   "outputs": [],
   "execution_count": 20
  },
  {
   "metadata": {
    "ExecuteTime": {
     "end_time": "2025-02-04T03:31:28.314840Z",
     "start_time": "2025-02-04T03:31:28.309234Z"
    }
   },
   "cell_type": "code",
   "source": "emotion_scores",
   "id": "b76e85b5675aeb1f",
   "outputs": [
    {
     "data": {
      "text/plain": [
       "{'anger': [0.0641336441040039,\n",
       "  0.6126197576522827,\n",
       "  0.0641336441040039,\n",
       "  0.35148438811302185,\n",
       "  0.08141235262155533,\n",
       "  0.2322252243757248,\n",
       "  0.5381842255592346,\n",
       "  0.0641336441040039,\n",
       "  0.3006700277328491,\n",
       "  0.0641336441040039],\n",
       " 'disgust': [0.27359163761138916,\n",
       "  0.3482847511768341,\n",
       "  0.10400667786598206,\n",
       "  0.1507224589586258,\n",
       "  0.18449543416500092,\n",
       "  0.7271744608879089,\n",
       "  0.155854731798172,\n",
       "  0.10400667786598206,\n",
       "  0.2794816195964813,\n",
       "  0.17792661488056183],\n",
       " 'fear': [0.9281681180000305,\n",
       "  0.9425276517868042,\n",
       "  0.9723208546638489,\n",
       "  0.3607059419155121,\n",
       "  0.09504333138465881,\n",
       "  0.05136283114552498,\n",
       "  0.7474274635314941,\n",
       "  0.4044976532459259,\n",
       "  0.9155241250991821,\n",
       "  0.05136283114552498],\n",
       " 'joy': [0.932798445224762,\n",
       "  0.7044219970703125,\n",
       "  0.7672380805015564,\n",
       "  0.2518811821937561,\n",
       "  0.04056443274021149,\n",
       "  0.043375786393880844,\n",
       "  0.872565746307373,\n",
       "  0.04056443274021149,\n",
       "  0.04056443274021149,\n",
       "  0.04056443274021149],\n",
       " 'sadness': [0.6462159752845764,\n",
       "  0.8879395127296448,\n",
       "  0.5494767427444458,\n",
       "  0.7326844930648804,\n",
       "  0.8843896985054016,\n",
       "  0.621392011642456,\n",
       "  0.7121941447257996,\n",
       "  0.5494767427444458,\n",
       "  0.840289294719696,\n",
       "  0.8603722453117371],\n",
       " 'surprise': [0.9671575427055359,\n",
       "  0.11169017851352692,\n",
       "  0.11169017851352692,\n",
       "  0.11169017851352692,\n",
       "  0.47588053345680237,\n",
       "  0.11169017851352692,\n",
       "  0.40800127387046814,\n",
       "  0.8202826380729675,\n",
       "  0.35446077585220337,\n",
       "  0.11169017851352692],\n",
       " 'neutral': [0.7296020984649658,\n",
       "  0.252546101808548,\n",
       "  0.07876550406217575,\n",
       "  0.07876550406217575,\n",
       "  0.07876550406217575,\n",
       "  0.27190330624580383,\n",
       "  0.07876550406217575,\n",
       "  0.2344866842031479,\n",
       "  0.13561423122882843,\n",
       "  0.07876550406217575]}"
      ]
     },
     "execution_count": 21,
     "metadata": {},
     "output_type": "execute_result"
    }
   ],
   "execution_count": 21
  },
  {
   "metadata": {
    "ExecuteTime": {
     "end_time": "2025-02-04T03:42:24.464080Z",
     "start_time": "2025-02-04T03:32:51.154826Z"
    }
   },
   "cell_type": "code",
   "source": [
    "from tqdm import tqdm\n",
    "isbn = []\n",
    "emotion_scores = {label: [] for label in emotion_labels}\n",
    "\n",
    "for i in tqdm(range(len(books))):\n",
    "    isbn.append(books['isbn13'][i])\n",
    "    sentences = books['description'][i].split('.')\n",
    "    predictions = pipe(sentences)\n",
    "    max_scores = calculate_emotion_scores(predictions)\n",
    "    for label in emotion_labels:\n",
    "        emotion_scores[label].append(max_scores[label])"
   ],
   "id": "b47b6ede70d49c41",
   "outputs": [
    {
     "name": "stderr",
     "output_type": "stream",
     "text": [
      "100%|██████████| 5197/5197 [09:33<00:00,  9.07it/s]\n"
     ]
    }
   ],
   "execution_count": 22
  },
  {
   "metadata": {
    "ExecuteTime": {
     "end_time": "2025-02-04T08:26:21.759184Z",
     "start_time": "2025-02-04T08:26:21.570585Z"
    }
   },
   "cell_type": "code",
   "source": [
    "emotions_df = pd.DataFrame(emotion_scores)\n",
    "emotions_df['isbn13'] = isbn"
   ],
   "id": "b997a3909a7fcf3f",
   "outputs": [],
   "execution_count": 23
  },
  {
   "metadata": {
    "ExecuteTime": {
     "end_time": "2025-02-04T08:26:23.688958Z",
     "start_time": "2025-02-04T08:26:23.475751Z"
    }
   },
   "cell_type": "code",
   "source": "books = pd.merge(books, emotions_df, on='isbn13')",
   "id": "cd0e43937bc0f818",
   "outputs": [],
   "execution_count": 24
  },
  {
   "metadata": {
    "ExecuteTime": {
     "end_time": "2025-02-04T08:26:47.052496Z",
     "start_time": "2025-02-04T08:26:46.848358Z"
    }
   },
   "cell_type": "code",
   "source": "books.to_csv(\"books_with_emotions.csv\", index=False)",
   "id": "7526c45b35ca9ab8",
   "outputs": [],
   "execution_count": 26
  },
  {
   "metadata": {},
   "cell_type": "code",
   "outputs": [],
   "execution_count": null,
   "source": "",
   "id": "749de1424cd93041"
  }
 ],
 "metadata": {
  "kernelspec": {
   "display_name": "Python 3",
   "language": "python",
   "name": "python3"
  },
  "language_info": {
   "codemirror_mode": {
    "name": "ipython",
    "version": 2
   },
   "file_extension": ".py",
   "mimetype": "text/x-python",
   "name": "python",
   "nbconvert_exporter": "python",
   "pygments_lexer": "ipython2",
   "version": "2.7.6"
  }
 },
 "nbformat": 4,
 "nbformat_minor": 5
}
